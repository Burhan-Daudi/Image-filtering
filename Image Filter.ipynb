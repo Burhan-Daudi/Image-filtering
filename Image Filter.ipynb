{
 "cells": [
  {
   "cell_type": "code",
   "execution_count": 1,
   "metadata": {},
   "outputs": [
    {
     "name": "stdout",
     "output_type": "stream",
     "text": [
      "Requirement already satisfied: pillow in c:\\users\\burhanuddin\\anaconda3\\lib\\site-packages (8.0.1)\n"
     ]
    }
   ],
   "source": [
    "!pip install pillow"
   ]
  },
  {
   "cell_type": "code",
   "execution_count": 2,
   "metadata": {},
   "outputs": [],
   "source": [
    "from PIL import Image"
   ]
  },
  {
   "cell_type": "code",
   "execution_count": 3,
   "metadata": {},
   "outputs": [],
   "source": [
    "img=Image.open(\"Cat.jpg\").convert(\"RGB\")"
   ]
  },
  {
   "cell_type": "code",
   "execution_count": 4,
   "metadata": {},
   "outputs": [],
   "source": [
    "width,height=img.size"
   ]
  },
  {
   "cell_type": "code",
   "execution_count": 5,
   "metadata": {},
   "outputs": [],
   "source": [
    "pixels=img.load()"
   ]
  },
  {
   "cell_type": "code",
   "execution_count": 6,
   "metadata": {},
   "outputs": [],
   "source": [
    "def red(r,g,b):\n",
    "    newr=r\n",
    "    newg=0\n",
    "    newb=0\n",
    "    return (newr,newg,newb)"
   ]
  },
  {
   "cell_type": "code",
   "execution_count": 7,
   "metadata": {},
   "outputs": [],
   "source": [
    "def orange(r,g,b):\n",
    "    newr=255\n",
    "    newg=151\n",
    "    newb=77\n",
    "    return (newr,newg,newb)"
   ]
  },
  {
   "cell_type": "code",
   "execution_count": 8,
   "metadata": {},
   "outputs": [],
   "source": [
    "def grey(r,g,b):\n",
    "    newr=(r+g+b)//3\n",
    "    newg=(r+g+b)//3\n",
    "    newb=(r+g+b)//3\n",
    "    return (newr,newg,newb)"
   ]
  },
  {
   "cell_type": "code",
   "execution_count": 9,
   "metadata": {},
   "outputs": [],
   "source": [
    "def yellow(r,g,b):\n",
    "    newr = int(0.393 * r + 0.769 * g + 0.189 * b)\n",
    "    newg = int(0.349 * r + 0.686 * g + 0.168 * b)\n",
    "    newb= int(0.272 * r + 0.534 * g + 0.131 * b)\n",
    "    return (newr,newg,newb)"
   ]
  },
  {
   "cell_type": "code",
   "execution_count": 10,
   "metadata": {},
   "outputs": [],
   "source": [
    "def green(r,g,b):\n",
    "    newr = 0\n",
    "    newg = 128\n",
    "    newb = 10\n",
    "    return (newr,newg,newb)"
   ]
  },
  {
   "cell_type": "code",
   "execution_count": 11,
   "metadata": {},
   "outputs": [],
   "source": [
    "def purple(r,g,b):\n",
    "    newr = 231\n",
    "    newg = 146\n",
    "    newb = 228\n",
    "    return (newr,newg,newb)"
   ]
  },
  {
   "cell_type": "code",
   "execution_count": 12,
   "metadata": {},
   "outputs": [],
   "source": [
    "choice=\"\"\"\n",
    " enter you choice\n",
    " 1:red\n",
    " 2:orange\n",
    " 3:grey\n",
    " 4:green\n",
    " 5:yellow\n",
    " 6:purple\n",
    "\"\"\""
   ]
  },
  {
   "cell_type": "code",
   "execution_count": 13,
   "metadata": {},
   "outputs": [
    {
     "name": "stdout",
     "output_type": "stream",
     "text": [
      "\n",
      " enter you choice\n",
      " 1:red\n",
      " 2:orange\n",
      " 3:grey\n",
      " 4:green\n",
      " 5:yellow\n",
      " 6:purple\n",
      "\n",
      "6\n"
     ]
    }
   ],
   "source": [
    "print(choice)\n",
    "no = int(input())\n",
    "for py in range(height):\n",
    "    for px in range(width):\n",
    "        r,g,b=img.getpixel((px,py))\n",
    "        if no==1:\n",
    "            pixels[px,py]= red(r,g,b)\n",
    "        elif no==2:\n",
    "            pixels[px,py]= orange(r,g,b)\n",
    "        elif no==3:\n",
    "            pixels[px,py]= grey(r,g,b)\n",
    "        elif no==4:\n",
    "            pixels[px,py]= green(r,g,b)\n",
    "        elif no==5:\n",
    "            pixels[px,py]= yellow(r,g,b)    \n",
    "        elif no==6:\n",
    "            pixels[px,py]= purple(r,g,b) \n",
    "        else:\n",
    "            pixels[px,py]= (r,g,b)  \n",
    "img.show()\n",
    "img.save(\"NweFilterImage.jpg\")"
   ]
  }
 ],
 "metadata": {
  "kernelspec": {
   "display_name": "Python 3",
   "language": "python",
   "name": "python3"
  },
  "language_info": {
   "codemirror_mode": {
    "name": "ipython",
    "version": 3
   },
   "file_extension": ".py",
   "mimetype": "text/x-python",
   "name": "python",
   "nbconvert_exporter": "python",
   "pygments_lexer": "ipython3",
   "version": "3.8.5"
  }
 },
 "nbformat": 4,
 "nbformat_minor": 4
}
